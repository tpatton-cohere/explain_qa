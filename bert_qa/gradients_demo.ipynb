{
 "cells": [
  {
   "cell_type": "markdown",
   "metadata": {},
   "source": [
    "# Testing gradients.py\n",
    "Author: Thomas Patton\n",
    "\n",
    "The goal of this notebook is to demonstrate how gradients.py can be used to give explanation for a question-answering model"
   ]
  },
  {
   "cell_type": "markdown",
   "metadata": {},
   "source": [
    "## Imports / Installs"
   ]
  },
  {
   "cell_type": "code",
   "execution_count": 1,
   "metadata": {},
   "outputs": [
    {
     "name": "stdout",
     "output_type": "stream",
     "text": [
      "\u001b[33mWARNING: Value for scheme.headers does not match. Please report this to <https://github.com/pypa/pip/issues/9617>\n",
      "distutils: /opt/conda/include/python3.6m/UNKNOWN\n",
      "sysconfig: /opt/conda/include/python3.6m\u001b[0m\n",
      "\u001b[33mWARNING: Additional context:\n",
      "user = False\n",
      "home = None\n",
      "root = None\n",
      "prefix = None\u001b[0m\n",
      "\u001b[33mWARNING: Value for scheme.headers does not match. Please report this to <https://github.com/pypa/pip/issues/9617>\n",
      "distutils: /opt/conda/include/python3.6m/UNKNOWN\n",
      "sysconfig: /opt/conda/include/python3.6m\u001b[0m\n",
      "\u001b[33mWARNING: Additional context:\n",
      "user = False\n",
      "home = None\n",
      "root = None\n",
      "prefix = None\u001b[0m\n",
      "\u001b[33mWARNING: Running pip as root will break packages and permissions. You should install packages reliably by using venv: https://pip.pypa.io/warnings/venv\u001b[0m\n"
     ]
    }
   ],
   "source": [
    "!pip install -q transformers ipywidgets jupyter tensorflow"
   ]
  },
  {
   "cell_type": "code",
   "execution_count": 2,
   "metadata": {},
   "outputs": [],
   "source": [
    "import os\n",
    "import numpy as np\n",
    "import pandas as pd\n",
    "import matplotlib.pyplot as plt\n",
    "import tensorflow as tf\n",
    "import torch\n",
    "from IPython.core.display import display, HTML\n",
    "from transformers import AutoTokenizer, TFBertForQuestionAnswering"
   ]
  },
  {
   "cell_type": "markdown",
   "metadata": {},
   "source": [
    "## Load BERT Model"
   ]
  },
  {
   "cell_type": "code",
   "execution_count": 3,
   "metadata": {},
   "outputs": [
    {
     "name": "stderr",
     "output_type": "stream",
     "text": [
      "Some weights of the PyTorch model were not used when initializing the TF 2.0 model TFBertForQuestionAnswering: ['bert.embeddings.position_ids']\n",
      "- This IS expected if you are initializing TFBertForQuestionAnswering from a PyTorch model trained on another task or with another architecture (e.g. initializing a TFBertForSequenceClassification model from a BertForPreTraining model).\n",
      "- This IS NOT expected if you are initializing TFBertForQuestionAnswering from a PyTorch model that you expect to be exactly identical (e.g. initializing a TFBertForSequenceClassification model from a BertForSequenceClassification model).\n",
      "All the weights of TFBertForQuestionAnswering were initialized from the PyTorch model.\n",
      "If your task is similar to the task the model of the checkpoint was trained on, you can already use TFBertForQuestionAnswering for predictions without further training.\n"
     ]
    }
   ],
   "source": [
    "tokenizer = AutoTokenizer.from_pretrained(\"./bert_model/\")\n",
    "model = TFBertForQuestionAnswering.from_pretrained(\"./bert_model/\", from_pt=True)"
   ]
  },
  {
   "cell_type": "markdown",
   "metadata": {},
   "source": [
    "## Define Question / Context"
   ]
  },
  {
   "cell_type": "code",
   "execution_count": 4,
   "metadata": {},
   "outputs": [
    {
     "name": "stdout",
     "output_type": "stream",
     "text": [
      "one physical therapy and this made him worse. he has been offered injections but is refused these. he is \n",
      "concerned about his diabetes. i have offered him injection several times. he does not wish to have any. \n",
      "physical examination: \n",
      "alert and orient the patient needs l3 l4 laminectomies. ed x 4. patient in no acute distress. normal affect and mentation. \n",
      "the patient stands with the shoulders and pelvis level. sagittal and frontal contours of the spine are well maintained. \n",
      "examination of the low back region reveals the skin to be int\n"
     ]
    }
   ],
   "source": [
    "with open('./sample.txt') as f:\n",
    "    context = f.read()[500:1500]\n",
    "    \n",
    "context = context[500:750] + ' the patient needs l3 l4 laminectomies. ' + context[750:1500]\n",
    "        \n",
    "question = \"Does the paitent need a laminectomy?\"\n",
    "print(context)"
   ]
  },
  {
   "cell_type": "markdown",
   "metadata": {},
   "source": [
    "## Get Gradients"
   ]
  },
  {
   "cell_type": "code",
   "execution_count": 5,
   "metadata": {},
   "outputs": [],
   "source": [
    "%load_ext autoreload"
   ]
  },
  {
   "cell_type": "code",
   "execution_count": 6,
   "metadata": {},
   "outputs": [],
   "source": [
    "%autoreload 2"
   ]
  },
  {
   "cell_type": "code",
   "execution_count": 7,
   "metadata": {},
   "outputs": [
    {
     "name": "stdout",
     "output_type": "stream",
     "text": [
      "the patient needs l3 l4 laminectomies. ed x 4. patient in no acute distress\n"
     ]
    },
    {
     "data": {
      "text/html": [
       "<div>\n",
       "<style scoped>\n",
       "    .dataframe tbody tr th:only-of-type {\n",
       "        vertical-align: middle;\n",
       "    }\n",
       "\n",
       "    .dataframe tbody tr th {\n",
       "        vertical-align: top;\n",
       "    }\n",
       "\n",
       "    .dataframe thead th {\n",
       "        text-align: right;\n",
       "    }\n",
       "</style>\n",
       "<table border=\"1\" class=\"dataframe\">\n",
       "  <thead>\n",
       "    <tr style=\"text-align: right;\">\n",
       "      <th></th>\n",
       "      <th>word</th>\n",
       "      <th>gradient</th>\n",
       "      <th>type</th>\n",
       "    </tr>\n",
       "  </thead>\n",
       "  <tbody>\n",
       "    <tr>\n",
       "      <th>0</th>\n",
       "      <td>[CLS]</td>\n",
       "      <td>0.123764</td>\n",
       "      <td>0</td>\n",
       "    </tr>\n",
       "    <tr>\n",
       "      <th>1</th>\n",
       "      <td>Does</td>\n",
       "      <td>0.421226</td>\n",
       "      <td>0</td>\n",
       "    </tr>\n",
       "    <tr>\n",
       "      <th>2</th>\n",
       "      <td>the</td>\n",
       "      <td>0.146855</td>\n",
       "      <td>0</td>\n",
       "    </tr>\n",
       "    <tr>\n",
       "      <th>3</th>\n",
       "      <td>p</td>\n",
       "      <td>0.322579</td>\n",
       "      <td>0</td>\n",
       "    </tr>\n",
       "    <tr>\n",
       "      <th>4</th>\n",
       "      <td>##ait</td>\n",
       "      <td>1.000000</td>\n",
       "      <td>0</td>\n",
       "    </tr>\n",
       "    <tr>\n",
       "      <th>...</th>\n",
       "      <td>...</td>\n",
       "      <td>...</td>\n",
       "      <td>...</td>\n",
       "    </tr>\n",
       "    <tr>\n",
       "      <th>129</th>\n",
       "      <td>to</td>\n",
       "      <td>0.022984</td>\n",
       "      <td>1</td>\n",
       "    </tr>\n",
       "    <tr>\n",
       "      <th>130</th>\n",
       "      <td>be</td>\n",
       "      <td>0.024991</td>\n",
       "      <td>1</td>\n",
       "    </tr>\n",
       "    <tr>\n",
       "      <th>131</th>\n",
       "      <td>in</td>\n",
       "      <td>0.028921</td>\n",
       "      <td>1</td>\n",
       "    </tr>\n",
       "    <tr>\n",
       "      <th>132</th>\n",
       "      <td>##t</td>\n",
       "      <td>0.031556</td>\n",
       "      <td>1</td>\n",
       "    </tr>\n",
       "    <tr>\n",
       "      <th>133</th>\n",
       "      <td>[SEP]</td>\n",
       "      <td>0.054460</td>\n",
       "      <td>1</td>\n",
       "    </tr>\n",
       "  </tbody>\n",
       "</table>\n",
       "<p>134 rows × 3 columns</p>\n",
       "</div>"
      ],
      "text/plain": [
       "      word  gradient  type\n",
       "0    [CLS]  0.123764     0\n",
       "1     Does  0.421226     0\n",
       "2      the  0.146855     0\n",
       "3        p  0.322579     0\n",
       "4    ##ait  1.000000     0\n",
       "..     ...       ...   ...\n",
       "129     to  0.022984     1\n",
       "130     be  0.024991     1\n",
       "131     in  0.028921     1\n",
       "132    ##t  0.031556     1\n",
       "133  [SEP]  0.054460     1\n",
       "\n",
       "[134 rows x 3 columns]"
      ]
     },
     "execution_count": 7,
     "metadata": {},
     "output_type": "execute_result"
    }
   ],
   "source": [
    "import gradients as grad\n",
    "\n",
    "gradient_df = grad.get_gradients(model, tokenizer, question, context, verbose=True)\n",
    "gradient_df"
   ]
  },
  {
   "cell_type": "markdown",
   "metadata": {},
   "source": [
    "## Visualize Gradients"
   ]
  },
  {
   "cell_type": "code",
   "execution_count": 8,
   "metadata": {},
   "outputs": [
    {
     "data": {
      "text/html": [
       "<span style=\"background-color: hsla(110, 70%, 50%, 0.0);\">[CLS]</span><span> </span><span style=\"background-color: hsla(110, 70%, 50%, 0.34485792517662045);\">Does</span><span> </span><span style=\"background-color: hsla(110, 70%, 50%, 0.0);\">the</span><span> </span><span style=\"background-color: hsla(110, 70%, 50%, 0.27580519318580626);\">p</span><span> </span><span style=\"background-color: hsla(110, 70%, 50%, 0.75);\">##ait</span><span> </span><span style=\"background-color: hsla(110, 70%, 50%, 0.45119801759719846);\">##ent</span><span> </span><span style=\"background-color: hsla(110, 70%, 50%, 0.3051424592733383);\">need</span><span> </span><span style=\"background-color: hsla(110, 70%, 50%, 0.0);\">a</span><span> </span><span style=\"background-color: hsla(110, 70%, 50%, 0.0);\">la</span><span> </span><span style=\"background-color: hsla(110, 70%, 50%, 0.0);\">##mine</span><span> </span><span style=\"background-color: hsla(110, 70%, 50%, 0.0);\">##ct</span><span> </span><span style=\"background-color: hsla(110, 70%, 50%, 0.0);\">##omy</span><span> </span><span style=\"background-color: hsla(110, 70%, 50%, 0.3046634554862976);\">?</span><span> </span><span style=\"background-color: hsla(110, 70%, 50%, 0.0);\">[SEP]</span><span> </span><span style=\"background-color: hsla(110, 70%, 50%, 0.0);\">one</span><span> </span><span style=\"background-color: hsla(110, 70%, 50%, 0.0);\">physical</span><span> </span><span style=\"background-color: hsla(110, 70%, 50%, 0.0);\">therapy</span><span> </span><span style=\"background-color: hsla(110, 70%, 50%, 0.0);\">and</span><span> </span><span style=\"background-color: hsla(110, 70%, 50%, 0.0);\">this</span><span> </span><span style=\"background-color: hsla(110, 70%, 50%, 0.0);\">made</span><span> </span><span style=\"background-color: hsla(110, 70%, 50%, 0.0);\">him</span><span> </span><span style=\"background-color: hsla(110, 70%, 50%, 0.0);\">worse</span><span> </span><span style=\"background-color: hsla(110, 70%, 50%, 0.0);\">.</span><span> </span><span style=\"background-color: hsla(110, 70%, 50%, 0.0);\">he</span><span> </span><span style=\"background-color: hsla(110, 70%, 50%, 0.0);\">has</span><span> </span><span style=\"background-color: hsla(110, 70%, 50%, 0.0);\">been</span><span> </span><span style=\"background-color: hsla(110, 70%, 50%, 0.0);\">offered</span><span> </span><span style=\"background-color: hsla(110, 70%, 50%, 0.0);\">injection</span><span> </span><span style=\"background-color: hsla(110, 70%, 50%, 0.0);\">##s</span><span> </span><span style=\"background-color: hsla(110, 70%, 50%, 0.0);\">but</span><span> </span><span style=\"background-color: hsla(110, 70%, 50%, 0.0);\">is</span><span> </span><span style=\"background-color: hsla(110, 70%, 50%, 0.0);\">refused</span><span> </span><span style=\"background-color: hsla(110, 70%, 50%, 0.0);\">these</span><span> </span><span style=\"background-color: hsla(110, 70%, 50%, 0.0);\">.</span><span> </span><span style=\"background-color: hsla(110, 70%, 50%, 0.0);\">he</span><span> </span><span style=\"background-color: hsla(110, 70%, 50%, 0.0);\">is</span><span> </span><span style=\"background-color: hsla(110, 70%, 50%, 0.0);\">concerned</span><span> </span><span style=\"background-color: hsla(110, 70%, 50%, 0.0);\">about</span><span> </span><span style=\"background-color: hsla(110, 70%, 50%, 0.0);\">his</span><span> </span><span style=\"background-color: hsla(110, 70%, 50%, 0.0);\">diabetes</span><span> </span><span style=\"background-color: hsla(110, 70%, 50%, 0.0);\">.</span><span> </span><span style=\"background-color: hsla(110, 70%, 50%, 0.0);\">i</span><span> </span><span style=\"background-color: hsla(110, 70%, 50%, 0.0);\">have</span><span> </span><span style=\"background-color: hsla(110, 70%, 50%, 0.0);\">offered</span><span> </span><span style=\"background-color: hsla(110, 70%, 50%, 0.0);\">him</span><span> </span><span style=\"background-color: hsla(110, 70%, 50%, 0.0);\">injection</span><span> </span><span style=\"background-color: hsla(110, 70%, 50%, 0.0);\">several</span><span> </span><span style=\"background-color: hsla(110, 70%, 50%, 0.0);\">times</span><span> </span><span style=\"background-color: hsla(110, 70%, 50%, 0.0);\">.</span><span> </span><span style=\"background-color: hsla(110, 70%, 50%, 0.0);\">he</span><span> </span><span style=\"background-color: hsla(110, 70%, 50%, 0.0);\">does</span><span> </span><span style=\"background-color: hsla(110, 70%, 50%, 0.0);\">not</span><span> </span><span style=\"background-color: hsla(110, 70%, 50%, 0.0);\">wish</span><span> </span><span style=\"background-color: hsla(110, 70%, 50%, 0.0);\">to</span><span> </span><span style=\"background-color: hsla(110, 70%, 50%, 0.0);\">have</span><span> </span><span style=\"background-color: hsla(110, 70%, 50%, 0.0);\">any</span><span> </span><span style=\"background-color: hsla(110, 70%, 50%, 0.42416877746582027);\">.</span><span> </span><span style=\"background-color: hsla(110, 70%, 50%, 0.4583041965961456);\">physical</span><span> </span><span style=\"background-color: hsla(110, 70%, 50%, 0.27960578501224514);\">examination</span><span> </span><span style=\"background-color: hsla(110, 70%, 50%, 0.26946177780628205);\">:</span><span> </span><span style=\"background-color: hsla(110, 70%, 50%, 0.4218535959720611);\">alert</span><span> </span><span style=\"background-color: hsla(110, 70%, 50%, 0.28801381289958955);\">and</span><span> </span><span style=\"background-color: hsla(110, 70%, 50%, 0.3655586659908294);\">or</span><span> </span><span style=\"background-color: hsla(110, 70%, 50%, 0.5612961649894714);\">##ient</span><span> </span><span style=\"background-color: hsla(110, 70%, 50%, 0.31170049905776975);\">the</span><span> </span><span style=\"background-color: hsla(110, 70%, 50%, 0.2736193537712097);\">patient</span><span> </span><span style=\"background-color: hsla(110, 70%, 50%, 0.506689065694809);\">needs</span><span> </span><span style=\"background-color: hsla(110, 70%, 50%, 0.0);\">l</span><span> </span><span style=\"background-color: hsla(110, 70%, 50%, 0.0);\">##3</span><span> </span><span style=\"background-color: hsla(110, 70%, 50%, 0.0);\">l</span><span> </span><span style=\"background-color: hsla(110, 70%, 50%, 0.0);\">##4</span><span> </span><span style=\"background-color: hsla(110, 70%, 50%, 0.0);\">la</span><span> </span><span style=\"background-color: hsla(110, 70%, 50%, 0.0);\">##mine</span><span> </span><span style=\"background-color: hsla(110, 70%, 50%, 0.0);\">##ct</span><span> </span><span style=\"background-color: hsla(110, 70%, 50%, 0.255586376786232);\">##omi</span><span> </span><span style=\"background-color: hsla(110, 70%, 50%, 0.0);\">##es</span><span> </span><span style=\"background-color: hsla(110, 70%, 50%, 0.0);\">.</span><span> </span><span style=\"background-color: hsla(110, 70%, 50%, 0.2587787270545959);\">ed</span><span> </span><span style=\"background-color: hsla(110, 70%, 50%, 0.0);\">x</span><span> </span><span style=\"background-color: hsla(110, 70%, 50%, 0.0);\">4</span><span> </span><span style=\"background-color: hsla(110, 70%, 50%, 0.0);\">.</span><span> </span><span style=\"background-color: hsla(110, 70%, 50%, 0.0);\">patient</span><span> </span><span style=\"background-color: hsla(110, 70%, 50%, 0.0);\">in</span><span> </span><span style=\"background-color: hsla(110, 70%, 50%, 0.0);\">no</span><span> </span><span style=\"background-color: hsla(110, 70%, 50%, 0.0);\">acute</span><span> </span><span style=\"background-color: hsla(110, 70%, 50%, 0.0);\">distress</span><span> </span><span style=\"background-color: hsla(110, 70%, 50%, 0.0);\">.</span><span> </span><span style=\"background-color: hsla(110, 70%, 50%, 0.0);\">normal</span><span> </span><span style=\"background-color: hsla(110, 70%, 50%, 0.0);\">affect</span><span> </span><span style=\"background-color: hsla(110, 70%, 50%, 0.0);\">and</span><span> </span><span style=\"background-color: hsla(110, 70%, 50%, 0.0);\">men</span><span> </span><span style=\"background-color: hsla(110, 70%, 50%, 0.0);\">##tation</span><span> </span><span style=\"background-color: hsla(110, 70%, 50%, 0.0);\">.</span><span> </span><span style=\"background-color: hsla(110, 70%, 50%, 0.0);\">the</span><span> </span><span style=\"background-color: hsla(110, 70%, 50%, 0.0);\">patient</span><span> </span><span style=\"background-color: hsla(110, 70%, 50%, 0.0);\">stands</span><span> </span><span style=\"background-color: hsla(110, 70%, 50%, 0.0);\">with</span><span> </span><span style=\"background-color: hsla(110, 70%, 50%, 0.0);\">the</span><span> </span><span style=\"background-color: hsla(110, 70%, 50%, 0.0);\">shoulders</span><span> </span><span style=\"background-color: hsla(110, 70%, 50%, 0.0);\">and</span><span> </span><span style=\"background-color: hsla(110, 70%, 50%, 0.0);\">p</span><span> </span><span style=\"background-color: hsla(110, 70%, 50%, 0.0);\">##el</span><span> </span><span style=\"background-color: hsla(110, 70%, 50%, 0.0);\">##vis</span><span> </span><span style=\"background-color: hsla(110, 70%, 50%, 0.0);\">level</span><span> </span><span style=\"background-color: hsla(110, 70%, 50%, 0.0);\">.</span><span> </span><span style=\"background-color: hsla(110, 70%, 50%, 0.0);\">sa</span><span> </span><span style=\"background-color: hsla(110, 70%, 50%, 0.0);\">##git</span><span> </span><span style=\"background-color: hsla(110, 70%, 50%, 0.0);\">##tal</span><span> </span><span style=\"background-color: hsla(110, 70%, 50%, 0.0);\">and</span><span> </span><span style=\"background-color: hsla(110, 70%, 50%, 0.0);\">frontal</span><span> </span><span style=\"background-color: hsla(110, 70%, 50%, 0.0);\">con</span><span> </span><span style=\"background-color: hsla(110, 70%, 50%, 0.0);\">##tour</span><span> </span><span style=\"background-color: hsla(110, 70%, 50%, 0.0);\">##s</span><span> </span><span style=\"background-color: hsla(110, 70%, 50%, 0.0);\">of</span><span> </span><span style=\"background-color: hsla(110, 70%, 50%, 0.0);\">the</span><span> </span><span style=\"background-color: hsla(110, 70%, 50%, 0.0);\">spine</span><span> </span><span style=\"background-color: hsla(110, 70%, 50%, 0.0);\">are</span><span> </span><span style=\"background-color: hsla(110, 70%, 50%, 0.0);\">well</span><span> </span><span style=\"background-color: hsla(110, 70%, 50%, 0.0);\">maintained</span><span> </span><span style=\"background-color: hsla(110, 70%, 50%, 0.0);\">.</span><span> </span><span style=\"background-color: hsla(110, 70%, 50%, 0.0);\">examination</span><span> </span><span style=\"background-color: hsla(110, 70%, 50%, 0.0);\">of</span><span> </span><span style=\"background-color: hsla(110, 70%, 50%, 0.0);\">the</span><span> </span><span style=\"background-color: hsla(110, 70%, 50%, 0.0);\">low</span><span> </span><span style=\"background-color: hsla(110, 70%, 50%, 0.0);\">back</span><span> </span><span style=\"background-color: hsla(110, 70%, 50%, 0.0);\">region</span><span> </span><span style=\"background-color: hsla(110, 70%, 50%, 0.0);\">reveals</span><span> </span><span style=\"background-color: hsla(110, 70%, 50%, 0.0);\">the</span><span> </span><span style=\"background-color: hsla(110, 70%, 50%, 0.0);\">skin</span><span> </span><span style=\"background-color: hsla(110, 70%, 50%, 0.0);\">to</span><span> </span><span style=\"background-color: hsla(110, 70%, 50%, 0.0);\">be</span><span> </span><span style=\"background-color: hsla(110, 70%, 50%, 0.0);\">in</span><span> </span><span style=\"background-color: hsla(110, 70%, 50%, 0.0);\">##t</span><span> </span><span style=\"background-color: hsla(110, 70%, 50%, 0.0);\">[SEP]</span><span> </span>"
      ],
      "text/plain": [
       "<IPython.core.display.HTML object>"
      ]
     },
     "metadata": {},
     "output_type": "display_data"
    }
   ],
   "source": [
    "from IPython.core.display import display, HTML\n",
    "\n",
    "text = grad.html(gradient_df['word'].tolist(), gradient_df['gradient'].tolist(), thresh=0.25)\n",
    "display(HTML(text))"
   ]
  },
  {
   "cell_type": "code",
   "execution_count": null,
   "metadata": {},
   "outputs": [],
   "source": []
  },
  {
   "cell_type": "code",
   "execution_count": null,
   "metadata": {},
   "outputs": [],
   "source": []
  }
 ],
 "metadata": {
  "instance_type": "ml.t3.medium",
  "kernelspec": {
   "display_name": "Python 3 (PyTorch 1.6 Python 3.6 CPU Optimized)",
   "language": "python",
   "name": "python3__SAGEMAKER_INTERNAL__arn:aws:sagemaker:us-east-2:429704687514:image/pytorch-1.6-cpu-py36-ubuntu16.04-v1"
  },
  "language_info": {
   "codemirror_mode": {
    "name": "ipython",
    "version": 3
   },
   "file_extension": ".py",
   "mimetype": "text/x-python",
   "name": "python",
   "nbconvert_exporter": "python",
   "pygments_lexer": "ipython3",
   "version": "3.6.13"
  }
 },
 "nbformat": 4,
 "nbformat_minor": 4
}
